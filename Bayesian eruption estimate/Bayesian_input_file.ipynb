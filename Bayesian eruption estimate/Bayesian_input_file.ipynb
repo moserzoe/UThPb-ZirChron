{
 "cells": [
  {
   "cell_type": "code",
   "execution_count": 1,
   "metadata": {},
   "outputs": [],
   "source": [
    "import pandas as pd"
   ]
  },
  {
   "cell_type": "code",
   "execution_count": null,
   "metadata": {},
   "outputs": [],
   "source": [
    "# Here we import the necessary functions from the bayesian_age_calculation module\n",
    "# Make sure the bayesian_age_calulation.py is in the same directory as this script.\n",
    "from bayesian_age_calculation import normalize_vector\n",
    "from bayesian_age_calculation import plot_kde\n",
    "from bayesian_age_calculation import plot_mcmc_simulation_results\n",
    "from bayesian_age_calculation import plot_histogram\n",
    "from bayesian_age_calculation import plot_eruption_and_saturation_age\n",
    "from bayesian_age_calculation import calculate_bayesian_age"
   ]
  },
  {
   "cell_type": "code",
   "execution_count": null,
   "metadata": {},
   "outputs": [
    {
     "name": "stdout",
     "output_type": "stream",
     "text": [
      "Unique units in the data: ['TestUnit1' 'TestUnit2']\n",
      "Bayesian age calculation for TestUnit1 with TruncatedNormalDistribution completed.\n",
      "Bayesian age calculation for TestUnit1 with UniformDistribution completed.\n",
      "Bayesian age calculation for TestUnit2 with TruncatedNormalDistribution completed.\n",
      "Bayesian age calculation for TestUnit2 with UniformDistribution completed.\n"
     ]
    }
   ],
   "source": [
    "# This script is used to calculate the Bayesian eruption age of zircon crystals based on their model age and 1 sigma uncertainty.\n",
    "# Please change the directory and file names to your own data.\n",
    "directory_data = '' # This is the directory where your data file is located. Make sure to include the trailing slash.\n",
    "name_data_file = 'example_data' # This is the name of the data file without the .xlsx extension.\n",
    "\n",
    "# Please change the column names to your own data.\n",
    "# Ensure that your file includes a column named 'Unit', where all rows corresponding to a single sample share the same value.\n",
    "col_model_age = 'model_age'\n",
    "col_model_age_1sigma = 'model_age_1sigma'\n",
    "\n",
    "######################################################################################################################################################################\n",
    "data_zrc = pd.read_excel(f'{directory_data}{name_data_file}.xlsx')\n",
    "unique_units = data_zrc['Unit'].unique()\n",
    "print(f'Unique units in the data: {unique_units}')\n",
    "for variable_name in unique_units:\n",
    "    PriorDist = [                       # Specify here the prior distributions to be used for the Bayesian age calculation.\n",
    "    #\"HalfNormalDistribution\", \n",
    "    #\"MeltsTZircDistribution\", \n",
    "    #\"TriangularDistribution\",\n",
    "    \"TruncatedNormalDistribution\", \n",
    "    #\"VolcanicZirconDistribution\",\n",
    "    #\"VolcanicZirconLowXDistribution\",\n",
    "    #\"NormalDistribution\",\n",
    "    #\"TruncatedLowNormalDistribution\",\n",
    "    #\"Bootstrapped\",\n",
    "    \"UniformDistribution\"]\n",
    "    for i in PriorDist:\n",
    "        calculate_bayesian_age(data_zrc,unit_of_interest=variable_name, n_chain=15000, dist= i, model_age=col_model_age, mean_sigma = col_model_age_1sigma,do_plot=True)\n",
    "        print(f'Bayesian age calculation for {variable_name} with {i} completed.')\n",
    "output_file = f'{directory_data}{name_data_file}_bayesian_results.xlsx'\n",
    "data_zrc.to_excel(output_file, index=False)"
   ]
  },
  {
   "cell_type": "code",
   "execution_count": null,
   "metadata": {},
   "outputs": [],
   "source": [
    "# After the Bayesian age calculation, we summarize the results by dropping the model age and 1 sigma columns.\n",
    "# If there are other columns with unique values for each sample, you can also drop them here.\n",
    "data_zrc = pd.read_excel(f'{directory_data}{name_data_file}_bayesian_results.xlsx')\n",
    "data_zrc_summary = data_zrc.drop([col_model_age,col_model_age_1sigma], axis=1)\n",
    "data_zrc_summary = data_zrc_summary.drop_duplicates()\n",
    "data_zrc_summary.to_excel(f'{directory_data}{name_data_file}_bayesian_results_summary.xlsx', index=False)"
   ]
  }
 ],
 "metadata": {
  "kernelspec": {
   "display_name": "base",
   "language": "python",
   "name": "python3"
  },
  "language_info": {
   "codemirror_mode": {
    "name": "ipython",
    "version": 3
   },
   "file_extension": ".py",
   "mimetype": "text/x-python",
   "name": "python",
   "nbconvert_exporter": "python",
   "pygments_lexer": "ipython3",
   "version": "3.11.5"
  }
 },
 "nbformat": 4,
 "nbformat_minor": 2
}
